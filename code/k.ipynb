{
 "cells": [
  {
   "cell_type": "code",
   "execution_count": 2,
   "metadata": {},
   "outputs": [],
   "source": [
    "import argparse\n",
    "from lib2to3.pytree import Base\n",
    "import torch\n",
    "import numpy as np\n",
    "import random\n",
    "import yaml\n",
    "import gc\n",
    "import time\n",
    "from sklearn.metrics import roc_auc_score\n",
    "from sklearn.metrics import average_precision_score\n",
    "from utils import load_sc_data, load_sc_causal_data, accuracy_LP\n",
    "from model import CausalGNN\n",
    "import torchmetrics\n",
    "import torch.optim as optim\n",
    "import torch.nn.functional as F\n",
    "import torch.utils.data as Data\n",
    "import sys\n",
    "\n",
    "# output to a file\n",
    "\n",
    "# set seed\n",
    "def set_rng_seed(seed):\n",
    "    random.seed(seed)\n",
    "    np.random.seed(seed)\n",
    "    torch.manual_seed(seed)\n",
    "    torch.cuda.manual_seed(seed)\n",
    "    torch.cuda.manual_seed_all(seed)\n",
    "    torch.backends.cudnn.deterministic = True\n",
    "\n",
    "# Jupyter 노트북 환경에서 불필요한 인자를 제거\n",
    "if '--f' in sys.argv[1]:\n",
    "    sys.argv = sys.argv[:1] + sys.argv[2:]\n",
    "# input params\n",
    "parser = argparse.ArgumentParser()\n",
    "with open('param.yaml', encoding='utf-8') as f:\n",
    "    config = yaml.load(f.read(), Loader=yaml.FullLoader)['gcn']\n",
    "    for key in config.keys():\n",
    "        name = '--' + key\n",
    "        parser.add_argument(name, type=type(config[key]), default=config[key])\n",
    "args = parser.parse_args()\n",
    "\n",
    "# use cuda\n",
    "args.cuda = args.cuda and torch.cuda.is_available()\n",
    "device = torch.device(\"cuda\" if args.cuda else \"cpu\")\n",
    "\n",
    "# set seed\n",
    "set_rng_seed(args.seed)\n",
    "\n",
    "# load data\n",
    "data_path = \"../example/mESC/ExpressionData.csv\"\n",
    "label_path = \"../example/mESC/refNetwork.csv\"\n",
    "\n",
    "if args.flag:\n",
    "    adj_train, feature, train_ids, val_ids, test_ids, train_labels, val_labels, test_labels = load_sc_causal_data(data_path, label_path)\n",
    "else:\n",
    "    adj_train, feature, train_ids, val_ids, test_ids, train_labels, val_labels, test_labels = load_sc_data(data_path, label_path)\n",
    "\n",
    "adj_train = F.normalize(adj_train, p=1, dim=1)"
   ]
  },
  {
   "cell_type": "code",
   "execution_count": null,
   "metadata": {},
   "outputs": [],
   "source": []
  }
 ],
 "metadata": {
  "kernelspec": {
   "display_name": "GRN",
   "language": "python",
   "name": "python3"
  },
  "language_info": {
   "codemirror_mode": {
    "name": "ipython",
    "version": 3
   },
   "file_extension": ".py",
   "mimetype": "text/x-python",
   "name": "python",
   "nbconvert_exporter": "python",
   "pygments_lexer": "ipython3",
   "version": "3.9.20"
  }
 },
 "nbformat": 4,
 "nbformat_minor": 2
}
